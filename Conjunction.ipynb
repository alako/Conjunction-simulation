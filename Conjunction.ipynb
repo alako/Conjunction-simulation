{
 "cells": [
  {
   "cell_type": "markdown",
   "metadata": {},
   "source": [
    "# Believing cojunctions - simulation"
   ]
  },
  {
   "cell_type": "markdown",
   "metadata": {},
   "source": [
    "Setting parameters:"
   ]
  },
  {
   "cell_type": "code",
   "execution_count": 1,
   "metadata": {},
   "outputs": [],
   "source": [
    "import numpy as np \n",
    "threshold = 0.5\n",
    "max_con_size = 5\n",
    "loops = 50\n",
    "cj_nr = 5000\n",
    "pr_nr = 10000\n",
    "#simulations = [1001,101,11,7,5,3]\n",
    "simulations = [1001,101,51,21,15,11,9,7,5,3]"
   ]
  },
  {
   "cell_type": "code",
   "execution_count": 2,
   "metadata": {},
   "outputs": [],
   "source": [
    "## rounds 'value' according to the 0-1 scale with 'nr' of levels\n",
    "def round_to_lev(value, nr):\n",
    "    if (nr == 1001):\n",
    "        return round(value,3)\n",
    "    if (nr == 101):\n",
    "        return round(value,2)\n",
    "    if (value == 1):\n",
    "        return 1\n",
    "    if (value == 0):\n",
    "        return 0\n",
    "    diff = 1 / (nr-2)\n",
    "    err = 1 \n",
    "    level = diff/2\n",
    "    result = 0\n",
    "    for _ in range(nr-2):\n",
    "        if (abs(value-level)<err):\n",
    "            err = abs(value-level)\n",
    "            result = level\n",
    "        level += diff\n",
    "    return result"
   ]
  },
  {
   "cell_type": "markdown",
   "metadata": {},
   "source": [
    "Creating random conjunctions out of propositions, counting those that are above the threshold and comparing the results for different accuracies."
   ]
  },
  {
   "cell_type": "code",
   "execution_count": 3,
   "metadata": {},
   "outputs": [],
   "source": [
    "def simulate(levels, prop, cj_nr=5000):\n",
    "    n = len(levels) \n",
    "    mistaken_bel = [0]*n #list with nr of wrongly believed conjunctions \n",
    "    mistaken_not_bel = [0]*n #list with nr of conjunctions that should be believed but aren't \n",
    "    believed_conj = 0\n",
    "    for _ in range(cj_nr):\n",
    "        c_size = np.random.randint(2,max_con_size) #each conjunction has random amount of conjuncts\n",
    "        c_prop = np.random.randint(0,pr_nr,c_size) #selecting random propositions\n",
    "        conj_pr = [1]*n\n",
    "        conj_float = 1        \n",
    "        for i in c_prop:\n",
    "            conj_float *= propositions[i]\n",
    "            for j in range(n):\n",
    "                #conj_pr[j] = round_to_lev(conj_pr[j]*round_to_lev(propositions[i],levels[j]),levels[j])\n",
    "                conj_pr[j] *= round_to_lev(propositions[i],levels[j])\n",
    "        #threshold = np.random.rand()*0.5+0.5\n",
    "        justified = False\n",
    "        if (conj_float > threshold):\n",
    "                believed_conj +=1\n",
    "                justified = True\n",
    "        for i in range(n):\n",
    "            c = conj_pr[i]\n",
    "            if ((c > round_to_lev(threshold,levels[i])) & (not justified)):\n",
    "                mistaken_bel[i]+=1\n",
    "            if ((c <= round_to_lev(threshold,levels[i])) & justified):\n",
    "                mistaken_not_bel[i]+=1 \n",
    "    return (mistaken_bel, mistaken_not_bel, believed_conj)"
   ]
  },
  {
   "cell_type": "markdown",
   "metadata": {},
   "source": [
    "Performing simulation:"
   ]
  },
  {
   "cell_type": "code",
   "execution_count": 4,
   "metadata": {},
   "outputs": [],
   "source": [
    "results_b = []\n",
    "results_nb = []\n",
    "bel_conj_nr=0\n",
    "\n",
    "for _ in range(loops):    \n",
    "    propositions = np.random.random(pr_nr)*(1-threshold)+threshold\n",
    "    (mist_b, mist_nb, believed_conj) = simulate(simulations, propositions, cj_nr)\n",
    "    results_b.append(mist_b)\n",
    "    results_nb.append(mist_nb)\n",
    "    bel_conj_nr += believed_conj\n",
    "bel_conj_nr /= loops"
   ]
  },
  {
   "cell_type": "markdown",
   "metadata": {},
   "source": [
    "Counting mistaken beliefs:"
   ]
  },
  {
   "cell_type": "code",
   "execution_count": 5,
   "metadata": {},
   "outputs": [
    {
     "name": "stdout",
     "output_type": "stream",
     "text": [
      "Conjunctions: 5000\n",
      "Conjunctions above the threshold: 1605.06\n",
      "\n",
      "Mistaken beliefs:\n",
      "believed: 1.22 | not believed: 1.18 | error rate: 0.05 % | levels:  1001\n",
      "believed: 11.94 | not believed: 11.66 | error rate: 0.47 % | levels:  101\n",
      "believed: 23.96 | not believed: 23.88 | error rate: 0.96 % | levels:  51\n",
      "believed: 62.18 | not believed: 69.2 | error rate: 2.63 % | levels:  21\n",
      "believed: 96.72 | not believed: 77.72 | error rate: 3.49 % | levels:  15\n",
      "believed: 145.62 | not believed: 126.46 | error rate: 5.44 % | levels:  11\n",
      "believed: 193.16 | not believed: 160.32 | error rate: 7.07 % | levels:  9\n",
      "believed: 142.2 | not believed: 318.98 | error rate: 9.22 % | levels:  7\n",
      "believed: 156.02 | not believed: 531.92 | error rate: 13.76 % | levels:  5\n",
      "believed: 0.0 | not believed: 1605.06 | error rate: 32.1 % | levels:  3\n"
     ]
    }
   ],
   "source": [
    "error_b, error_nb = [], []\n",
    "for i in range(len(simulations)):\n",
    "    b_avg, nb_avg = 0, 0\n",
    "    for r in results_b:\n",
    "        b_avg+=r[i]\n",
    "    for r in results_nb:\n",
    "        nb_avg+=r[i]\n",
    "    b_avg/=len(results_b)  \n",
    "    nb_avg/=len(results_nb) \n",
    "    error_b.append(b_avg)\n",
    "    error_nb.append(nb_avg)\n",
    "\n",
    "print(\"Conjunctions:\",cj_nr)    \n",
    "print(\"Conjunctions above the threshold:\", bel_conj_nr)    \n",
    "print(\"\\nMistaken beliefs:\")\n",
    "for s in range(len(simulations)):\n",
    "    print(\"believed:\",error_b[s],\"| not believed:\",error_nb[s],\"| error rate:\",\n",
    "          round((error_b[s]+error_nb[s])/cj_nr*100,2),\"%\",\"| levels: \",simulations[s])"
   ]
  },
  {
   "cell_type": "code",
   "execution_count": 6,
   "metadata": {},
   "outputs": [
    {
     "data": {
      "text/plain": [
       "<function matplotlib.pyplot.show(*args, **kw)>"
      ]
     },
     "execution_count": 6,
     "metadata": {},
     "output_type": "execute_result"
    }
   ],
   "source": [
    "import matplotlib.pyplot as plt\n",
    "total_error = np.array(error_b)+np.array(error_nb)\n",
    "plt.plot(simulations, total_error)\n",
    "plt.xlabel('accuracy levels')\n",
    "plt.ylabel('mistaken beliefs')\n",
    "plt.title('Rounding errors')\n",
    "plt.show"
   ]
  },
  {
   "cell_type": "code",
   "execution_count": 7,
   "metadata": {},
   "outputs": [
    {
     "data": {
      "text/plain": [
       "<function matplotlib.pyplot.show(*args, **kw)>"
      ]
     },
     "execution_count": 7,
     "metadata": {},
     "output_type": "execute_result"
    },
    {
     "data": {
      "image/png": "[encoded data removed]",
      "text/plain": [
       "<Figure size 432x288 with 1 Axes>"
      ]
     },
     "metadata": {
      "needs_background": "light"
     },
     "output_type": "display_data"
    }
   ],
   "source": [
    "error_rate = np.array(error_nb) / bel_conj_nr * 100\n",
    "plt.plot(simulations[4:10], error_rate[4:10])\n",
    "error_rate = np.array(error_b) / (cj_nr-bel_conj_nr) * 100\n",
    "plt.plot(simulations[4:10], error_rate[4:10])\n",
    "error_rate = total_error / cj_nr * 100\n",
    "plt.plot(simulations[4:10], error_rate[4:10])\n",
    "plt.grid(True)\n",
    "plt.xlabel('accuracy levels')\n",
    "plt.ylabel('[%]')\n",
    "plt.legend(['wrongly not believed', 'wrongly believed','total error rate'])\n",
    "plt.title('Rounding errors')\n",
    "plt.show"
   ]
  },
  {
   "cell_type": "code",
   "execution_count": 8,
   "metadata": {},
   "outputs": [
    {
     "data": {
      "text/plain": [
       "<function matplotlib.pyplot.show(*args, **kw)>"
      ]
     },
     "execution_count": 8,
     "metadata": {},
     "output_type": "execute_result"
    },
    {
     "data": {
      "image/png": "[encoded data removed]",
      "text/plain": [
       "<Figure size 432x288 with 1 Axes>"
      ]
     },
     "metadata": {
      "needs_background": "light"
     },
     "output_type": "display_data"
    }
   ],
   "source": [
    "# error_rate = np.array(error_nb) / bel_conj_nr * 100\n",
    "# plt.plot(simulations, error_rate)\n",
    "# error_rate = np.array(error_b) / (cj_nr-bel_conj_nr) * 100\n",
    "# plt.plot(simulations, error_rate)\n",
    "error_rate = total_error / cj_nr * 100\n",
    "plt.plot(simulations, error_rate)\n",
    "plt.grid(True)\n",
    "plt.xlabel('accuracy levels')\n",
    "plt.ylabel('error[%]')\n",
    "#plt.legend(['wrongly not believed', 'wrongly believed','total error rate'])\n",
    "plt.title('Rounding errors')\n",
    "plt.show"
   ]
  }
 ],
 "metadata": {
  "kernelspec": {
   "display_name": "Python 3",
   "language": "python",
   "name": "python3"
  },
  "language_info": {
   "codemirror_mode": {
    "name": "ipython",
    "version": 3
   },
   "file_extension": ".py",
   "mimetype": "text/x-python",
   "name": "python",
   "nbconvert_exporter": "python",
   "pygments_lexer": "ipython3",
   "version": "3.6.7"
  }
 },
 "nbformat": 4,
 "nbformat_minor": 2
}
