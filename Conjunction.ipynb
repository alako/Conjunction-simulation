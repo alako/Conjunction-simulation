{
 "cells": [
  {
   "cell_type": "markdown",
   "metadata": {},
   "source": [
    "# Believing cojunctions - simulation"
   ]
  },
  {
   "cell_type": "markdown",
   "metadata": {},
   "source": [
    "Setting parameters:"
   ]
  },
  {
   "cell_type": "code",
   "execution_count": 1,
   "metadata": {},
   "outputs": [],
   "source": [
    "import numpy as np \n",
    "threshold = 0.8\n",
    "max_con_size = 2\n",
    "loops = 50\n",
    "cj_nr = 5000 # number of conjunctions\n",
    "pr_nr = 10000 # number of believed propositions\n",
    "# simulations = [1001,101,11,7,5,3] # simulated number of levels\n",
    "simulations = [1001,101,51,21,15,11,9,7,5,3]"
   ]
  },
  {
   "cell_type": "code",
   "execution_count": 2,
   "metadata": {},
   "outputs": [],
   "source": [
    "def round_to_lev(value, nr):\n",
    "    '''\n",
    "    Rounds 'value' according to the 0-1 scale with 'nr' of levels\n",
    "    :param value: real number to be rounded\n",
    "    :param nr: nr of levels used for calculations\n",
    "    :returns: rounded value\n",
    "    '''\n",
    "    if (nr == 1001):\n",
    "        return round(value,3)\n",
    "    if (nr == 101):\n",
    "        return round(value,2)\n",
    "    if (value == 1):\n",
    "        return 1\n",
    "    if (value == 0):\n",
    "        return 0\n",
    "    diff = 1 / (nr-2)\n",
    "    err = 1 \n",
    "    level = diff/2\n",
    "    result = 0\n",
    "    for _ in range(nr-2):\n",
    "        if (abs(value-level)<err):\n",
    "            err = abs(value-level)\n",
    "            result = level\n",
    "        level += diff\n",
    "    return result"
   ]
  },
  {
   "cell_type": "markdown",
   "metadata": {},
   "source": [
    "Creating random conjunctions out of propositions, counting those that are above the threshold and comparing the results for different accuracies."
   ]
  },
  {
   "cell_type": "code",
   "execution_count": 3,
   "metadata": {},
   "outputs": [],
   "source": [
    "def simulate(levels, prop, cj_nr=5000):\n",
    "    '''\n",
    "    :param levels: list of levels to be simulated, e.g. [9,7,5]\n",
    "    :param prop: list of degrees of belief for believed propositions, e.g. [0.79, 0.8, 0.64 ...]\n",
    "    :returns: \n",
    "        (nr of conjunctions that shouldn't be believed (list for each accuracy level),\n",
    "        nr of conjunctions that should be believed but aren't (list for each accuracy level), \n",
    "        nr of conjunctions that should be believed) \n",
    "    '''\n",
    "    n = len(levels) # number of simulations - each simulation for different amount of levels\n",
    "    mistaken_bel = [0]*n # list with nr of wrongly believed conjunctions for each simulation (level)\n",
    "    mistaken_not_bel = [0]*n # list with nr of conjunctions that should be believed but aren't for each simulation\n",
    "    believed_conj = 0\n",
    "    for _ in range(cj_nr):\n",
    "        c_size = np.random.randint(2, max_con_size+1) # each conjunction has random amount of conjuncts - c_size\n",
    "        c_prop = np.random.randint(0, pr_nr, c_size) # selecting propositions randomly\n",
    "        conj_pr = [1]*n # list of rounded probabilites of conjunctions for each simulation \n",
    "        conj_float = 1        \n",
    "        for i in c_prop:\n",
    "            conj_float *= propositions[i]\n",
    "            for j in range(n):\n",
    "                # conj_pr[j] = round_to_lev(conj_pr[j]*round_to_lev(propositions[i],levels[j]),levels[j])\n",
    "                conj_pr[j] *= round_to_lev(propositions[i],levels[j])\n",
    "        # threshold = np.random.rand()*0.5+0.5\n",
    "        conj_pr[j] = round_to_lev(conj_pr[j], levels[j])\n",
    "        justified = False\n",
    "        if (conj_float > threshold):\n",
    "                believed_conj +=1\n",
    "                justified = True\n",
    "        for i in range(n):\n",
    "            c = conj_pr[i]\n",
    "            if ((c > round_to_lev(threshold,levels[i])) & (not justified)):\n",
    "                mistaken_bel[i]+=1\n",
    "            if ((c <= round_to_lev(threshold,levels[i])) & justified):\n",
    "                mistaken_not_bel[i]+=1 \n",
    "    return (mistaken_bel, mistaken_not_bel, believed_conj)"
   ]
  },
  {
   "cell_type": "markdown",
   "metadata": {},
   "source": [
    "Performing simulation:"
   ]
  },
  {
   "cell_type": "code",
   "execution_count": 4,
   "metadata": {},
   "outputs": [],
   "source": [
    "results_b = []\n",
    "results_nb = []\n",
    "bel_conj_nr=0\n",
    "\n",
    "for _ in range(loops):    \n",
    "    propositions = np.random.random(pr_nr)*(1-threshold)+threshold \n",
    "    (mist_b, mist_nb, believed_conj) = simulate(simulations, propositions, cj_nr)\n",
    "    results_b.append(mist_b)\n",
    "    results_nb.append(mist_nb)\n",
    "    bel_conj_nr += believed_conj\n",
    "bel_conj_nr /= loops"
   ]
  },
  {
   "cell_type": "markdown",
   "metadata": {},
   "source": [
    "Counting mistaken beliefs:"
   ]
  },
  {
   "cell_type": "code",
   "execution_count": 5,
   "metadata": {},
   "outputs": [
    {
     "name": "stdout",
     "output_type": "stream",
     "text": [
      "Threshold: 0.8\n",
      "Number of conjuncts: [2,2]\n",
      "All conjunctions: 5000\n",
      "Conjunctions above the threshold (no rounding): 2697.18\n",
      "Results for different number of levels:\n",
      "levels: 1001 | accuracy: 0.998 | precision: 0.998 | recall: 0.999 | mistaken bel: 4.4 | mistaken not bel: 3.5\n",
      "levels: 101 | accuracy: 0.982 | precision: 0.983 | recall: 0.984 | mistaken bel: 46.1 | mistaken not bel: 42.92\n",
      "levels: 51 | accuracy: 0.943 | precision: 0.991 | recall: 0.903 | mistaken bel: 22.08 | mistaken not bel: 262.16\n",
      "levels: 21 | accuracy: 0.878 | precision: 1.000 | recall: 0.774 | mistaken bel: 0.8 | mistaken not bel: 608.66\n",
      "levels: 15 | accuracy: 0.884 | precision: 0.975 | recall: 0.805 | mistaken bel: 55.76 | mistaken not bel: 525.16\n",
      "levels: 11 | accuracy: 0.768 | precision: 0.995 | recall: 0.572 | mistaken bel: 7.38 | mistaken not bel: 1153.82\n",
      "levels: 9 | accuracy: 0.831 | precision: 0.861 | recall: 0.818 | mistaken bel: 355.34 | mistaken not bel: 491.08\n",
      "levels: 7 | accuracy: 0.461 | precision: 0.000 | recall: 0.000 | mistaken bel: 0.0 | mistaken not bel: 2697.18\n",
      "levels: 5 | accuracy: 0.461 | precision: 0.000 | recall: 0.000 | mistaken bel: 0.0 | mistaken not bel: 2697.18\n",
      "levels: 3 | accuracy: 0.461 | precision: 0.000 | recall: 0.000 | mistaken bel: 0.0 | mistaken not bel: 2697.18\n"
     ]
    }
   ],
   "source": [
    "error_b, error_nb = [], []\n",
    "for i in range(len(simulations)):\n",
    "    b_avg, nb_avg = 0, 0\n",
    "    for r in results_b:\n",
    "        b_avg+=r[i]\n",
    "    for r in results_nb:\n",
    "        nb_avg+=r[i]\n",
    "    b_avg/=len(results_b)  \n",
    "    nb_avg/=len(results_nb) \n",
    "    error_b.append(b_avg)\n",
    "    error_nb.append(nb_avg)\n",
    "print(\"Threshold:\", threshold)\n",
    "print(\"Number of conjuncts: [2,{}]\".format(max_con_size))\n",
    "print(\"All conjunctions:\",cj_nr)    \n",
    "print(\"Conjunctions above the threshold (no rounding):\", bel_conj_nr)    \n",
    "print(\"Results for different number of levels:\")\n",
    "for s in range(len(simulations)):\n",
    "    accuracy = 1-(error_b[s]+error_nb[s])/cj_nr\n",
    "    if (bel_conj_nr-error_nb[s])+error_b[s]>0:\n",
    "        precision = (bel_conj_nr-error_nb[s])/((bel_conj_nr-error_nb[s])+error_b[s])\n",
    "    else:\n",
    "        precision = 0   \n",
    "    recall = (bel_conj_nr-error_nb[s])/bel_conj_nr\n",
    "    print(\"levels: {} | accuracy: {:.3f} | precision: {:.3f} | recall: {:.3f} | mistaken bel: {} | mistaken not bel: {}\" \n",
    "          .format(simulations[s], accuracy, precision, recall, error_b[s], error_nb[s]))"
   ]
  },
  {
   "cell_type": "code",
   "execution_count": 6,
   "metadata": {},
   "outputs": [
    {
     "data": {
      "text/plain": [
       "<function matplotlib.pyplot.show(*args, **kw)>"
      ]
     },
     "execution_count": 6,
     "metadata": {},
     "output_type": "execute_result"
    }
   ],
   "source": [
    "import matplotlib.pyplot as plt\n",
    "total_error = np.array(error_b)+np.array(error_nb)\n",
    "plt.plot(simulations, total_error)\n",
    "plt.xlabel('accuracy levels')\n",
    "plt.ylabel('mistaken beliefs')\n",
    "plt.title('Rounding errors')\n",
    "plt.show"
   ]
  },
  {
   "cell_type": "code",
   "execution_count": 7,
   "metadata": {},
   "outputs": [
    {
     "data": {
      "text/plain": [
       "<function matplotlib.pyplot.show(*args, **kw)>"
      ]
     },
     "execution_count": 7,
     "metadata": {},
     "output_type": "execute_result"
    },
    {
     "data": {
      "image/png": "[encoded data removed]",
      "text/plain": [
       "<Figure size 432x288 with 1 Axes>"
      ]
     },
     "metadata": {
      "needs_background": "light"
     },
     "output_type": "display_data"
    }
   ],
   "source": [
    "error_rate = np.array(error_nb) / bel_conj_nr * 100\n",
    "plt.plot(simulations[2:], error_rate[2:])\n",
    "error_rate = np.array(error_b) / (cj_nr-bel_conj_nr) * 100\n",
    "plt.plot(simulations[2:], error_rate[2:])\n",
    "error_rate = total_error / cj_nr * 100\n",
    "plt.plot(simulations[2:], error_rate[2:])\n",
    "plt.grid(True)\n",
    "plt.xlabel('accuracy levels')\n",
    "plt.ylabel('[%]')\n",
    "plt.legend(['wrongly not believed', 'wrongly believed','total error rate'])\n",
    "plt.title('Rounding errors')\n",
    "plt.show"
   ]
  },
  {
   "cell_type": "code",
   "execution_count": 8,
   "metadata": {},
   "outputs": [
    {
     "data": {
      "text/plain": [
       "<function matplotlib.pyplot.show(*args, **kw)>"
      ]
     },
     "execution_count": 8,
     "metadata": {},
     "output_type": "execute_result"
    },
    {
     "data": {
      "image/png": "[encoded data removed]",
      "text/plain": [
       "<Figure size 432x288 with 1 Axes>"
      ]
     },
     "metadata": {
      "needs_background": "light"
     },
     "output_type": "display_data"
    }
   ],
   "source": [
    "error_rate = total_error / cj_nr * 100\n",
    "plt.plot(simulations, error_rate)\n",
    "plt.grid(True)\n",
    "plt.xlabel('accuracy levels')\n",
    "plt.ylabel('error[%]')\n",
    "#plt.legend(['wrongly not believed', 'wrongly believed','total error rate'])\n",
    "plt.title('Rounding errors')\n",
    "plt.show"
   ]
  }
 ],
 "metadata": {
  "kernelspec": {
   "display_name": "Python 3",
   "language": "python",
   "name": "python3"
  },
  "language_info": {
   "codemirror_mode": {
    "name": "ipython",
    "version": 3
   },
   "file_extension": ".py",
   "mimetype": "text/x-python",
   "name": "python",
   "nbconvert_exporter": "python",
   "pygments_lexer": "ipython3",
   "version": "3.7.1"
  }
 },
 "nbformat": 4,
 "nbformat_minor": 2
}
