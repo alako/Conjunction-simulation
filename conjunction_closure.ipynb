{
 "cells": [
  {
   "cell_type": "markdown",
   "metadata": {},
   "source": [
    "## Believing cojunctions - simulation"
   ]
  },
  {
   "cell_type": "markdown",
   "metadata": {},
   "source": [
    "Setting parameters:"
   ]
  },
  {
   "cell_type": "code",
   "execution_count": 1,
   "metadata": {},
   "outputs": [],
   "source": [
    "import numpy as np\n",
    "import matplotlib.pyplot as plt\n",
    "import pandas as pd\n",
    "\n",
    "THRESHOLD = 0.5\n",
    "MAX_CONJUNCTS = 4\n",
    "CONJUNCTIONS_NR = 10000  # number of conjunctions\n",
    "BELIEFS_NR = 1000000  # number of believed propositions\n",
    "LEVELS_NR = [1001, 101, 51, 21, 15, 11, 9, 7, 5]  # simulated number of levels"
   ]
  },
  {
   "cell_type": "code",
   "execution_count": 2,
   "metadata": {},
   "outputs": [],
   "source": [
    "def round_to_lev(value, nr):\n",
    "    \"\"\"\n",
    "    Rounds 'value' according to the 0-1 scale with 'nr' of levels\n",
    "    :param value: real number to be rounded\n",
    "    :param nr: nr of levels used for calculations\n",
    "    :returns: rounded value\n",
    "    \"\"\"\n",
    "    if nr == 1001:\n",
    "        return round(value, 3)\n",
    "    if nr == 101:\n",
    "        return round(value, 2)\n",
    "    if value == 1:\n",
    "        return 1\n",
    "    if value == 0:\n",
    "        return 0\n",
    "    diff = 1/(nr-2)\n",
    "    err = 1\n",
    "    level = diff/2\n",
    "    result = 0\n",
    "    for _ in range(nr-2):\n",
    "        if abs(value-level) < err:\n",
    "            err = abs(value-level)\n",
    "            result = level\n",
    "        level += diff\n",
    "    return result"
   ]
  },
  {
   "cell_type": "markdown",
   "metadata": {},
   "source": [
    "Creating random conjunctions out of propositions, counting those that are above the threshold and comparing the results for different accuracies."
   ]
  },
  {
   "cell_type": "code",
   "execution_count": 3,
   "metadata": {},
   "outputs": [],
   "source": [
    "def simulate(beliefs, levels=LEVELS_NR):\n",
    "    \"\"\"\n",
    "    :param beliefs: list of degrees of belief for believed propositions, e.g. [0.79, 0.8, 0.64 ...]\n",
    "    :param levels: simulated number of distinguished confidence levels\n",
    "    :returns: tp, fp, tn, fn for each number of confidence levels\n",
    "    \"\"\"\n",
    "    n = len(levels)  # number of simulations - each simulation for different amount of levels\n",
    "    tp, fp, tn, fn = [0]*n, [0]*n, [0]*n, [0]*n  # lists with results\n",
    "    for _ in range(CONJUNCTIONS_NR):\n",
    "        c_size = np.random.randint(2, MAX_CONJUNCTS + 1)  # each conjunction has random amount of conjuncts - c_size\n",
    "        conjuncts = np.random.randint(0, BELIEFS_NR, c_size)  # selecting propositions randomly\n",
    "        conj_prob_round = [1]*n  # list of rounded probabilities of conjunctions for each number of levels\n",
    "        conj_float = 1\n",
    "        for conjunct in conjuncts:\n",
    "            conj_float *= beliefs[conjunct]\n",
    "            for levels_value in range(n):\n",
    "                conj_prob_round[levels_value] *= round_to_lev(beliefs[conjunct], levels[levels_value])\n",
    "        justified_float = conj_float > THRESHOLD\n",
    "        for levels_value in range(n):\n",
    "            conjunction_rounded = round_to_lev(conj_prob_round[levels_value], levels[levels_value])\n",
    "            justified_rounded = conjunction_rounded > round_to_lev(THRESHOLD, levels[levels_value])\n",
    "            if justified_rounded:\n",
    "                if justified_float:\n",
    "                    tp[levels_value] += 1\n",
    "                else:\n",
    "                    fp[levels_value] += 1\n",
    "            else:\n",
    "                if justified_float:\n",
    "                    fn[levels_value] += 1\n",
    "                else:\n",
    "                    tn[levels_value] += 1\n",
    "    return tp, fp, tn, fn"
   ]
  },
  {
   "cell_type": "markdown",
   "metadata": {},
   "source": [
    "Performing simulation:"
   ]
  },
  {
   "cell_type": "code",
   "execution_count": 4,
   "metadata": {},
   "outputs": [],
   "source": [
    "beliefs = np.random.random(BELIEFS_NR) * (1 - THRESHOLD) + THRESHOLD\n",
    "tp, fp, tn, fn = simulate(beliefs)"
   ]
  },
  {
   "cell_type": "markdown",
   "metadata": {},
   "source": [
    "Printing results:"
   ]
  },
  {
   "cell_type": "code",
   "execution_count": 5,
   "metadata": {},
   "outputs": [
    {
     "name": "stdout",
     "output_type": "stream",
     "text": [
      "Threshold: 0.5\n",
      "Number of conjuncts: [2, 3, 4]\n",
      "All conjunctions: 10000\n",
      "*********************************\n",
      "Results for different number of levels:\n",
      "      ACCURACY  PRECISION    RECALL\n",
      "1001    0.9989   1.000000  0.996577\n",
      "101     0.9896   0.999358  0.968264\n",
      "51      0.9796   0.999336  0.937150\n",
      "21      0.9535   0.997827  0.857187\n",
      "15      0.9269   0.997197  0.774736\n",
      "11      0.9155   0.995814  0.740199\n",
      "9       0.9010   0.987292  0.700996\n",
      "7       0.8652   0.989507  0.586808\n",
      "5       0.8172   0.970149  0.444928\n",
      "*********************************\n",
      "Confusion matrix:\n",
      "        TP    TN  FP    FN\n",
      "1001  3203  6786   0    11\n",
      "101   3112  6784   2   102\n",
      "51    3012  6784   2   202\n",
      "21    2755  6780   6   459\n",
      "15    2490  6779   7   724\n",
      "11    2379  6776  10   835\n",
      "9     2253  6757  29   961\n",
      "7     1886  6766  20  1328\n",
      "5     1430  6742  44  1784\n"
     ]
    }
   ],
   "source": [
    "print(\"Threshold:\", THRESHOLD)\n",
    "print(\"Number of conjuncts: {}\".format([n for n in range(2, MAX_CONJUNCTS+1)]))\n",
    "print(\"All conjunctions:\", CONJUNCTIONS_NR)\n",
    "print(\"*********************************\")\n",
    "print(\"Results for different number of levels:\")\n",
    "results = []\n",
    "for l in range(len(LEVELS_NR)):\n",
    "    accuracy = (tp[l]+tn[l])/(tp[l]+fp[l]+tn[l]+fn[l])\n",
    "    if tp[l]+fp[l] > 0:\n",
    "        precision = tp[l]/(tp[l]+fp[l])\n",
    "    else:\n",
    "        precision = np.NaN\n",
    "    if tp[l]+fn[l] > 0:\n",
    "        recall = tp[l]/(tp[l]+fn[l])\n",
    "    else:\n",
    "        recall = np.NaN\n",
    "    results.append([accuracy, precision, recall])   \n",
    "results = pd.DataFrame(results, columns=[\"ACCURACY\", \"PRECISION\", \"RECALL\"], index=LEVELS_NR)\n",
    "print(results)\n",
    "print(\"*********************************\")\n",
    "print(\"Confusion matrix:\")\n",
    "matrix = pd.DataFrame([tp, tn, fp, fn], columns=LEVELS_NR, index=['TP','TN','FP','FN']).transpose()\n",
    "print(matrix)"
   ]
  },
  {
   "cell_type": "markdown",
   "metadata": {},
   "source": [
    "Creating plots:"
   ]
  },
  {
   "cell_type": "code",
   "execution_count": 11,
   "metadata": {},
   "outputs": [
    {
     "data": {
      "image/png": "[encoded data removed]",
      "text/plain": [
       "<matplotlib.figure.Figure at 0x7f0d7a959f98>"
      ]
     },
     "metadata": {},
     "output_type": "display_data"
    }
   ],
   "source": [
    "plt.plot(results[3:])\n",
    "plt.grid(True)\n",
    "plt.xlabel('confidence levels')\n",
    "plt.legend(results.columns)\n",
    "plt.savefig('metrics-small.png')\n",
    "plt.show()\n"
   ]
  },
  {
   "cell_type": "code",
   "execution_count": 10,
   "metadata": {},
   "outputs": [
    {
     "data": {
      "image/png": "[encoded data removed]",
      "text/plain": [
       "<matplotlib.figure.Figure at 0x7f0d7a990f60>"
      ]
     },
     "metadata": {},
     "output_type": "display_data"
    },
    {
     "data": {
      "text/plain": [
       "<matplotlib.figure.Figure at 0x7f0d7a13ac18>"
      ]
     },
     "metadata": {},
     "output_type": "display_data"
    }
   ],
   "source": [
    "plt.plot(results)\n",
    "plt.grid(True)\n",
    "plt.xlabel('confidence levels')\n",
    "plt.legend(results.columns)\n",
    "plt.show()\n",
    "plt.savefig('metrics-big.png')"
   ]
  },
  {
   "cell_type": "code",
   "execution_count": 8,
   "metadata": {},
   "outputs": [
    {
     "data": {
      "image/png": "[encoded data removed]",
      "text/plain": [
       "<matplotlib.figure.Figure at 0x7f0d7aa37048>"
      ]
     },
     "metadata": {},
     "output_type": "display_data"
    }
   ],
   "source": [
    "plt.plot(matrix[3:])\n",
    "plt.grid(True)\n",
    "plt.xlabel('confidence levels')\n",
    "plt.ylabel('conjunctions')\n",
    "plt.legend(matrix.columns)\n",
    "plt.show()"
   ]
  }
 ],
 "metadata": {
  "kernelspec": {
   "display_name": "Python 3",
   "language": "python",
   "name": "python3"
  },
  "language_info": {
   "codemirror_mode": {
    "name": "ipython",
    "version": 3
   },
   "file_extension": ".py",
   "mimetype": "text/x-python",
   "name": "python",
   "nbconvert_exporter": "python",
   "pygments_lexer": "ipython3",
   "version": "3.6.4"
  }
 },
 "nbformat": 4,
 "nbformat_minor": 2
}
